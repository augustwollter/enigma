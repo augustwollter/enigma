{
 "cells": [
  {
   "cell_type": "markdown",
   "metadata": {},
   "source": [
    "# The Enigma Machine"
   ]
  },
  {
   "cell_type": "markdown",
   "metadata": {},
   "source": [
    "This cipher machine wase used during WWII and uses a set of transformations on each letter, which are updated for each letter, leading to a polyalphabetic cipher.\n",
    "\n",
    "I have implemented parts of the machine in enigma.py and here I will demo it. Some parts of the machine I did not have time to model, so this will not behave as a true Enigma simulator, but it can still encrypt messages!"
   ]
  },
  {
   "cell_type": "code",
   "execution_count": 148,
   "metadata": {},
   "outputs": [],
   "source": [
    "import enigma as en\n",
    "import numpy as np"
   ]
  },
  {
   "cell_type": "markdown",
   "metadata": {},
   "source": [
    "The process begins with a letter being pressed on the keyboard of the machine. This sends an electrical signal through the Plugboard (not implemnted), and then through the rotors. The Enigma machine usually had 3 rotors, but the model for submarines had 5!\n",
    "\n",
    "As the signal passed through the rotor it was diverted to a different position, like a substitution. Therefore one letter as substituted three times as it passed through the rotors. \n",
    "\n",
    "Next in the circuit was the reflector, which performed pairwise substitution on all possible letters and sent the signal back through the rotors in reverse order, transforming them yet again!\n",
    "\n",
    "The circuit was then complete and lit up a light under the encoded letter. This letter was noted, and as the key was depressed the rotors moved position (almost like an odometer (mine is simplified to be exactly like an odometer)) so that there would be a whole new set of substitutions for the next letter of the message.\n",
    "\n",
    "This means that subsequent identical letters like 'aa' could be encoded as 'ud', because each letter had a different encryption.\n",
    "\n",
    "There where several rotors and reflectors to chose from, all of which had different transformations and pairwise reflections respectively. To decode the message one simply had to set ones machine to exactly the same rotors and reflectors, in the same starting positions, and type in the code. Because of the reflector it would simply decode by using the machine twice!\n",
    "\n",
    "## Implementation details\n",
    "I treated each transformation as a matrix T (26 by 26, the number of letters on the machine squared) acting on a vector x (column vector of lenth 26) with a 1 in the position of the letter it represented.\n",
    "\n",
    "(x[0] = 1) corresponds to 'a'\n",
    "\n",
    "The transformation shifts the rows around so that the 1 moves to different letter positions."
   ]
  },
  {
   "cell_type": "markdown",
   "metadata": {},
   "source": [
    "## Cyclic permutatiotns for Rotors"
   ]
  },
  {
   "cell_type": "markdown",
   "metadata": {},
   "source": [
    "The rotors where not in simple alphabetical order, each position in the alphabet has the possibility of being swapped for another. For the 5 normal rotors, labeled by roman numerals, this was done using several cyclic permutations\n",
    "\n",
    "See definition of rotor1_cycles bellow: 'a' will be transformed to 'e', 'e' to 'l' and so on, with 'u' going to 'a'. In addition to these transformations, several other cycles were on each rotor, but some letters (like 's' for rotor 1) is transformed to itself.\n",
    "\n",
    "Below I Create Rotor I-V, using permutations found on \n",
    "https://www.codesandciphers.org.uk/enigma/rotorspec.htm\n"
   ]
  },
  {
   "cell_type": "code",
   "execution_count": 237,
   "metadata": {},
   "outputs": [],
   "source": [
    "# Creating Rotor I-V, using permutations found on \n",
    "# https://www.codesandciphers.org.uk/enigma/rotorspec.htm\n",
    "rotor1_cycles = ['aeltphqxru','bknw', 'cmoy', 'dfg', 'iv', 'jz']\n",
    "rotor2_cycles = ['fixvyomw', 'cdklhup', 'esz', 'bj', 'gr', 'nt']\n",
    "rotor3_cycles = ['abdhpejt', 'cflvmzoyqirwukxsg']\n",
    "rotor4_cycles = ['aepliywcoxmrfzbstgjqnh', 'dv', 'ku']\n",
    "rotor5_cycles = ['avoldrwfiuq', 'bzksmnhyc', 'egtjpx']\n",
    "\n",
    "t1 = en.list_cyclic_permutation_matrix(rotor1_cycles)\n",
    "t2 = en.list_cyclic_permutation_matrix(rotor2_cycles)\n",
    "t3 = en.list_cyclic_permutation_matrix(rotor3_cycles)\n",
    "t4 = en.list_cyclic_permutation_matrix(rotor4_cycles)\n",
    "t5 = en.list_cyclic_permutation_matrix(rotor5_cycles)\n"
   ]
  },
  {
   "cell_type": "markdown",
   "metadata": {},
   "source": [
    "Here I create the rotor objects, with the permutation matrix. The second parameter is the inital position of the rotor in the machine (0 to 25) and the last parameter represents the notch. When this position is reached it causes the next rotor in line to rotate as well.\n",
    "\n",
    "Feel free to play with the starting parameters!\n",
    "\n",
    "The rotor in the first position was rotated every keypress, but the second one only rotates when the first one reaches its notch, and similar for two and three. In the real machine there was so called double-stepping in the second wheel, which I did not have time to implement."
   ]
  },
  {
   "cell_type": "code",
   "execution_count": 238,
   "metadata": {},
   "outputs": [],
   "source": [
    "rotor1 = en.Rotor(t1,0,17)\n",
    "rotor2 = en.Rotor(t2,0,5)\n",
    "rotor3 = en.Rotor(t3,0,22)\n",
    "rotor4 = en.Rotor(t4,0,10)\n",
    "rotor5 = en.Rotor(t5,0,0)"
   ]
  },
  {
   "cell_type": "markdown",
   "metadata": {},
   "source": [
    "## Reflector"
   ]
  },
  {
   "cell_type": "markdown",
   "metadata": {},
   "source": [
    "The reflector the substitution is pairwise\n",
    "\n",
    "For reflector B (here called 1):\n",
    "(AY) (BR) (CU) (DH) (EQ) (FS) (GL) (IP) (JX) (KN) (MO) (TZ) (VW)\n",
    "are connected."
   ]
  },
  {
   "cell_type": "code",
   "execution_count": 239,
   "metadata": {},
   "outputs": [],
   "source": [
    "reload(en)\n",
    "perms1 = ['ay', 'br', 'cu', 'dh', 'eq', 'fs', 'gl', \n",
    "         'ip', 'jx', 'kn', 'mo', 'tz', 'vw']\n",
    "perms2 = ['af', 'bv', 'cp', 'dj', 'ei', 'go', 'hy', \n",
    "          'kr', 'lz', 'mx', 'nw', 'tq', 'su']\n",
    "reflector1 = en.Reflector(perms1)\n",
    "reflector2 = en.Reflector(perms2)\n"
   ]
  },
  {
   "cell_type": "markdown",
   "metadata": {},
   "source": [
    "After the reflector the letter is transformed backwards through the rotors again, using the inverse of each rotors respective transformation. Since they are permutation matrices, the inverted form is simply the transposed version of the matrix."
   ]
  },
  {
   "cell_type": "markdown",
   "metadata": {},
   "source": [
    "## Machine\n",
    "This class performs the total transformation. When it is reset, you can transform the message again, and it will be decoded!"
   ]
  },
  {
   "cell_type": "code",
   "execution_count": 240,
   "metadata": {},
   "outputs": [
    {
     "name": "stdout",
     "output_type": "stream",
     "text": [
      "nqcxwofrmvuhsnpwhlxrnqxcjwqnscufdfb\n",
      "advancedscientificpythonprogramming\n"
     ]
    }
   ],
   "source": [
    "machine = en.Machine([rotor1,rotor2,rotor3],reflector1)\n",
    "# Only a-z, no punctuation\n",
    "mess = en.Message(\"advancedscientificpythonprogramming\")\n",
    "machine.transformMessage(mess)\n",
    "print(mess)\n",
    "machine.reset()\n",
    "machine.transformMessage(mess)\n",
    "print(mess)"
   ]
  },
  {
   "cell_type": "markdown",
   "metadata": {},
   "source": [
    "## Where to go from here\n",
    "If I had more time I could definitely implement the plugboard, which performed pairwise substitution before the rotors and where controlled by connecting two letters with a cable on the board.\n",
    "\n",
    "The double-stepping behaviour of the rotors is more dificult to understand, but I could probably do it with more time.\n",
    "\n",
    "Even further, it would be nice if it was easier to use for everyone, if you did not have to understand the code base to use the package, which is kind of the case now."
   ]
  },
  {
   "cell_type": "code",
   "execution_count": null,
   "metadata": {},
   "outputs": [],
   "source": [
    "## Thanks for the course"
   ]
  }
 ],
 "metadata": {
  "kernelspec": {
   "display_name": "Python 3",
   "language": "python",
   "name": "python3"
  },
  "language_info": {
   "codemirror_mode": {
    "name": "ipython",
    "version": 3
   },
   "file_extension": ".py",
   "mimetype": "text/x-python",
   "name": "python",
   "nbconvert_exporter": "python",
   "pygments_lexer": "ipython3",
   "version": "3.7.4"
  }
 },
 "nbformat": 4,
 "nbformat_minor": 2
}
